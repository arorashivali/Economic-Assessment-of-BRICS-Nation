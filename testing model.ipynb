{
 "cells": [
  {
   "cell_type": "code",
   "execution_count": 1,
   "id": "20a7bb8e",
   "metadata": {},
   "outputs": [],
   "source": [
    "from joblib import dump, load\n",
    "model=load('IIM project.joblib')\n",
    "import numpy as np"
   ]
  },
  {
   "cell_type": "code",
   "execution_count": 8,
   "id": "77b76aba",
   "metadata": {},
   "outputs": [],
   "source": [
    "features=np.array([[-1.1001955 , -1.21950311, -0.77481424,  0.61907787, -1.30103204,\n",
    "        0.91553704, -0.77902644, -0.61907787, -0.62068131, -1.24084531,\n",
    "       -1.15749132]])\n"
   ]
  },
  {
   "cell_type": "code",
   "execution_count": 9,
   "id": "77ef00dc",
   "metadata": {},
   "outputs": [
    {
     "data": {
      "text/plain": [
       "array([[-1.1001955 , -1.21950311, -0.77481424,  0.61907787, -1.30103204,\n",
       "         0.91553704, -0.77902644, -0.61907787, -0.62068131, -1.24084531,\n",
       "        -1.15749132]])"
      ]
     },
     "execution_count": 9,
     "metadata": {},
     "output_type": "execute_result"
    }
   ],
   "source": [
    "features"
   ]
  },
  {
   "cell_type": "code",
   "execution_count": 10,
   "id": "495984e0",
   "metadata": {},
   "outputs": [
    {
     "data": {
      "text/plain": [
       "array([4.97])"
      ]
     },
     "execution_count": 10,
     "metadata": {},
     "output_type": "execute_result"
    }
   ],
   "source": [
    "model.predict(features)"
   ]
  },
  {
   "cell_type": "code",
   "execution_count": null,
   "id": "e3961d54",
   "metadata": {},
   "outputs": [],
   "source": []
  }
 ],
 "metadata": {
  "kernelspec": {
   "display_name": "Python 3 (ipykernel)",
   "language": "python",
   "name": "python3"
  },
  "language_info": {
   "codemirror_mode": {
    "name": "ipython",
    "version": 3
   },
   "file_extension": ".py",
   "mimetype": "text/x-python",
   "name": "python",
   "nbconvert_exporter": "python",
   "pygments_lexer": "ipython3",
   "version": "3.10.5"
  }
 },
 "nbformat": 4,
 "nbformat_minor": 5
}
